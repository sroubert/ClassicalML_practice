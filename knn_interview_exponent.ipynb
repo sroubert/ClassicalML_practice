{
 "cells": [
  {
   "cell_type": "code",
   "execution_count": 1,
   "metadata": {},
   "outputs": [],
   "source": [
    "# binary classification\n",
    "# euclidean distance"
   ]
  },
  {
   "cell_type": "code",
   "execution_count": 2,
   "metadata": {},
   "outputs": [
    {
     "data": {
      "text/plain": [
       "'\\nfunctions to define\\n1. calculate euclidean distance between two points\\n\\n2. KNN inference step\\n'"
      ]
     },
     "execution_count": 2,
     "metadata": {},
     "output_type": "execute_result"
    }
   ],
   "source": [
    "'''\n",
    "functions to define\n",
    "1. calculate euclidean distance between two points\n",
    "\n",
    "2. KNN inference step\n",
    "'''"
   ]
  },
  {
   "cell_type": "code",
   "execution_count": 36,
   "metadata": {},
   "outputs": [],
   "source": [
    "import numpy as np\n",
    "def euclidean_distance(x: np.ndarray, y: np.ndarray) -> float:\n",
    "    return np.sqrt( (x - y).T.dot(x - y) )\n",
    "\n",
    "def knn(X_train: np.ndarray, y_train: np.ndarray, X_new: np.ndarray, k: int) -> float:\n",
    "    distances = []\n",
    "\n",
    "    for X_i in X_train:\n",
    "        distance = euclidean_distance(X_i, X_new)\n",
    "        distances.append(distance)\n",
    "        print(\"distance is \" + str(distance))\n",
    "\n",
    "\n",
    "    top_k_indices = np.argsort(distances)[:k] #sorting and reversing, then extracting the top k\n",
    "\n",
    "    top_k_labels = [y_train[idx].item() for idx in top_k_indices]\n",
    "\n",
    "    print(\"top k labels: \")\n",
    "    print(top_k_labels)\n",
    "\n",
    "    # the below is key. its an implementation of a majority vote.\n",
    "    if sum(top_k_labels) > (k/2):\n",
    "        return 1\n",
    "    else: \n",
    "        return 0"
   ]
  },
  {
   "cell_type": "markdown",
   "metadata": {},
   "source": []
  },
  {
   "cell_type": "code",
   "execution_count": 39,
   "metadata": {},
   "outputs": [],
   "source": [
    "X_train = np.array([\n",
    "    [0,0],\n",
    "    [0,1],\n",
    "    [2,0],\n",
    "    [2,2],\n",
    "    [2,1]\n",
    "])\n",
    "\n",
    "y_train = np.array([0,0,0,1,1])\n",
    "\n",
    "#Test 1: expected - 0\n",
    "\n",
    "X_new = np.array([0,0])\n",
    "k = 3\n",
    "\n",
    "#Test 2: expected - 1\n",
    "X_new = np.array([2,2])\n",
    "k = 3"
   ]
  },
  {
   "cell_type": "code",
   "execution_count": 41,
   "metadata": {},
   "outputs": [
    {
     "name": "stdout",
     "output_type": "stream",
     "text": [
      "distance is 2.8284271247461903\n",
      "distance is 2.23606797749979\n",
      "distance is 2.0\n",
      "distance is 0.0\n",
      "distance is 1.0\n",
      "top k labels: \n",
      "[1, 1, 0]\n",
      "predicted class is 1\n"
     ]
    }
   ],
   "source": [
    "print( \"predicted class is \" + str(knn(X_train, y_train, X_new, k) ))"
   ]
  },
  {
   "cell_type": "code",
   "execution_count": null,
   "metadata": {},
   "outputs": [],
   "source": [
    "# if x_train is less than k, then return error or majority vote"
   ]
  }
 ],
 "metadata": {
  "kernelspec": {
   "display_name": "ouraTakeHome_3_8",
   "language": "python",
   "name": "python3"
  },
  "language_info": {
   "codemirror_mode": {
    "name": "ipython",
    "version": 3
   },
   "file_extension": ".py",
   "mimetype": "text/x-python",
   "name": "python",
   "nbconvert_exporter": "python",
   "pygments_lexer": "ipython3",
   "version": "3.8.19"
  }
 },
 "nbformat": 4,
 "nbformat_minor": 2
}
