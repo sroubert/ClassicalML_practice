{
 "cells": [
  {
   "cell_type": "code",
   "execution_count": 1,
   "metadata": {},
   "outputs": [
    {
     "name": "stdout",
     "output_type": "stream",
     "text": [
      "Bayes classifier accuracy: 0.85\n"
     ]
    },
    {
     "data": {
      "image/png": "[encoded data removed]",
      "text/plain": [
       "<Figure size 800x400 with 1 Axes>"
      ]
     },
     "metadata": {},
     "output_type": "display_data"
    }
   ],
   "source": [
    "import numpy as np\n",
    "import matplotlib.pyplot as plt\n",
    "\n",
    "def generate_data(n_samples=1000, \n",
    "                  prior_y0=0.5, \n",
    "                  mu0=0.0, sigma0=1.0, \n",
    "                  mu1=2.0, sigma1=1.0, \n",
    "                  random_seed=42):\n",
    "    \"\"\"\n",
    "    Generate a 1D dataset for two classes (y=0, y=1).\n",
    "    x|y=0 ~ Normal(mu0, sigma0^2)\n",
    "    x|y=1 ~ Normal(mu1, sigma1^2)\n",
    "    priors: P(y=0)=prior_y0, P(y=1)=1 - prior_y0\n",
    "    \"\"\"\n",
    "    np.random.seed(random_seed)\n",
    "\n",
    "    # Number of samples for each class based on the prior\n",
    "    n_y0 = int(n_samples * prior_y0)\n",
    "    n_y1 = n_samples - n_y0\n",
    "    \n",
    "    # Generate samples for each class\n",
    "    x_y0 = np.random.normal(loc=mu0, scale=sigma0, size=n_y0)\n",
    "    x_y1 = np.random.normal(loc=mu1, scale=sigma1, size=n_y1)\n",
    "\n",
    "    # Concatenate and create labels\n",
    "    x_all = np.concatenate([x_y0, x_y1])\n",
    "    y_all = np.array([0]*n_y0 + [1]*n_y1)\n",
    "    \n",
    "    return x_all, y_all\n",
    "\n",
    "def gaussian_pdf(x, mean, std):\n",
    "    \"\"\"\n",
    "    Compute value of the probability density function for a normal distribution.\n",
    "    \"\"\"\n",
    "    return (1.0 / (np.sqrt(2.0 * np.pi) * std) * \n",
    "            np.exp(-0.5 * ((x - mean) / std) ** 2))\n",
    "\n",
    "def bayes_classifier(x_test, \n",
    "                     prior_y0, \n",
    "                     prior_y1, \n",
    "                     mu0, sigma0, \n",
    "                     mu1, sigma1):\n",
    "    \"\"\"\n",
    "    For each x in x_test, compute the posterior probabilities for y=0 and y=1,\n",
    "    and return the class (0 or 1) that has the higher posterior.\n",
    "    \n",
    "    Posterior P(y=0|x) = P(x|y=0)*P(y=0) / P(x)\n",
    "    Posterior P(y=1|x) = P(x|y=1)*P(y=1) / P(x)\n",
    "    \n",
    "    The denominator P(x) is the same for both classes, so for classification,\n",
    "    we compare:\n",
    "    \n",
    "       P(x|y=0)*P(y=0)  vs.  P(x|y=1)*P(y=1).\n",
    "    \"\"\"\n",
    "    post_y0 = gaussian_pdf(x_test, mu0, sigma0) * prior_y0\n",
    "    post_y1 = gaussian_pdf(x_test, mu1, sigma1) * prior_y1\n",
    "    \n",
    "    # Bayes optimal decision rule: pick the class with higher posterior\n",
    "    y_pred = np.where(post_y0 > post_y1, 0, 1)\n",
    "    return y_pred\n",
    "\n",
    "if __name__ == \"__main__\":\n",
    "    # Parameters\n",
    "    n_samples = 1000\n",
    "    prior_y0  = 0.4  # P(y=0)\n",
    "    prior_y1  = 1.0 - prior_y0  # P(y=1)\n",
    "    mu0, sigma0 = 0.0, 1.0\n",
    "    mu1, sigma1 = 2.0, 1.0\n",
    "\n",
    "    # Generate synthetic data\n",
    "    x_all, y_all = generate_data(n_samples=n_samples,\n",
    "                                 prior_y0=prior_y0,\n",
    "                                 mu0=mu0, sigma0=sigma0,\n",
    "                                 mu1=mu1, sigma1=sigma1,\n",
    "                                 random_seed=42)\n",
    "\n",
    "    # Classify using the Bayes optimal classifier\n",
    "    y_pred = bayes_classifier(x_all, \n",
    "                              prior_y0, prior_y1, \n",
    "                              mu0, sigma0, \n",
    "                              mu1, sigma1)\n",
    "\n",
    "    # Compute accuracy\n",
    "    accuracy = np.mean(y_pred == y_all)\n",
    "    print(f\"Bayes classifier accuracy: {accuracy:.2f}\")\n",
    "\n",
    "    # Plot histogram of x for each class\n",
    "    plt.figure(figsize=(8, 4))\n",
    "    plt.hist(x_all[y_all == 0], bins=30, alpha=0.5, label=\"Class 0 (True)\")\n",
    "    plt.hist(x_all[y_all == 1], bins=30, alpha=0.5, label=\"Class 1 (True)\")\n",
    "    plt.title(\"Histogram of x for Each Class\")\n",
    "    plt.legend()\n",
    "    plt.show()\n"
   ]
  },
  {
   "cell_type": "code",
   "execution_count": null,
   "metadata": {},
   "outputs": [],
   "source": []
  }
 ],
 "metadata": {
  "kernelspec": {
   "display_name": "ouraTakeHome_3_8",
   "language": "python",
   "name": "python3"
  },
  "language_info": {
   "codemirror_mode": {
    "name": "ipython",
    "version": 3
   },
   "file_extension": ".py",
   "mimetype": "text/x-python",
   "name": "python",
   "nbconvert_exporter": "python",
   "pygments_lexer": "ipython3",
   "version": "3.8.19"
  }
 },
 "nbformat": 4,
 "nbformat_minor": 2
}
